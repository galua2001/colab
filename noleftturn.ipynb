{
  "nbformat": 4,
  "nbformat_minor": 0,
  "metadata": {
    "colab": {
      "provenance": [],
      "authorship_tag": "ABX9TyOo1S3xiezcFv3Epd4+wXo/",
      "include_colab_link": true
    },
    "kernelspec": {
      "name": "python3",
      "display_name": "Python 3"
    },
    "language_info": {
      "name": "python"
    }
  },
  "cells": [
    {
      "cell_type": "markdown",
      "metadata": {
        "id": "view-in-github",
        "colab_type": "text"
      },
      "source": [
        "<a href=\"https://colab.research.google.com/github/galua2001/colab/blob/main/noleftturn.ipynb\" target=\"_parent\"><img src=\"https://colab.research.google.com/assets/colab-badge.svg\" alt=\"Open In Colab\"/></a>"
      ]
    },
    {
      "cell_type": "code",
      "execution_count": 2,
      "metadata": {
        "colab": {
          "base_uri": "https://localhost:8080/"
        },
        "id": "6H9QWkYazk9T",
        "outputId": "de8a0c35-1a65-48d8-e5e0-8dc4b787aef9"
      },
      "outputs": [
        {
          "output_type": "stream",
          "name": "stdout",
          "text": [
            "([(11, 10), (10, 10), (9, 10), (8, 10), (7, 10), (6, 10), (5, 10), (4, 10), (3, 10), (2, 10), (2, 11), (2, 12), (3, 12), (4, 12), (5, 12), (6, 12), (7, 12), (8, 12), (9, 12), (10, 12), (10, 11), (10, 10), (10, 9), (10, 8), (10, 7), (10, 6), (10, 5), (10, 4), (10, 3), (10, 2), (9, 2), (8, 2), (7, 2), (6, 2), (5, 2), (4, 2), (3, 2), (2, 2), (2, 3), (2, 4), (2, 5), (2, 6), (2, 7), (2, 8), (2, 9), (2, 10), (3, 10), (4, 10), (5, 10), (6, 10), (7, 10), (8, 10), (8, 9), (8, 8), (8, 7), (8, 6), (7, 6), (6, 6), (5, 6), (4, 6), (4, 7), (4, 8), (5, 8), (6, 8), (6, 7), (6, 6), (6, 5), (6, 4), (6, 3), (6, 2), (6, 1), (6, 0), (5, 0), (4, 0), (3, 0), (2, 0), (1, 0), (0, 0), (0, 1), (0, 2), (1, 2), (2, 2), (3, 2), (4, 2), (5, 2), (6, 2), (7, 2), (8, 2), (9, 2), (10, 2), (11, 2)], 'NNNNNNNNNEESSSSSSSSWWWWWWWWWWNNNNNNNNEEEEEEEESSSSSSWWWWNNNNEESSWWWWWWWWNNNNNNEESSSSSSSSSSS')\n"
          ]
        }
      ],
      "source": [
        "from collections import deque\n",
        "\n",
        "# 방향: 0=N, 1=E, 2=S, 3=W\n",
        "DIRS = [(-1, 0), (0, 1), (1, 0), (0, -1)]\n",
        "DIR_CH = \"NESW\"\n",
        "\n",
        "def shortest_path_no_left(maze, start, goal, init_dir=None):\n",
        "    R, C = len(maze), len(maze[0])\n",
        "    sr, sc = start\n",
        "    gr, gc = goal\n",
        "\n",
        "    def inside(r, c): return 0 <= r < R and 0 <= c < C\n",
        "\n",
        "    visited = [[[False]*4 for _ in range(C)] for __ in range(R)]\n",
        "    parent = dict()\n",
        "\n",
        "    q = deque()\n",
        "    visited[sr][sc][init_dir] = True\n",
        "    parent[(sr, sc, init_dir)] = None\n",
        "    q.append((sr, sc, init_dir))\n",
        "\n",
        "    while q:\n",
        "        r, c, d = q.popleft()\n",
        "        if (r, c) == (gr, gc):\n",
        "            end_state = (r, c, d)\n",
        "            cells = []\n",
        "            dirs = []\n",
        "            cur = end_state\n",
        "            while cur is not None:\n",
        "                r0, c0, d0 = cur\n",
        "                cells.append((r0, c0))\n",
        "                dirs.append(d0)\n",
        "                cur = parent[cur]\n",
        "            cells.reverse()\n",
        "            dirs.reverse()\n",
        "            dir_str = \"\".join(DIR_CH[d] for d in dirs[1:]) if len(dirs) > 1 else \"\"\n",
        "            return cells, dir_str\n",
        "\n",
        "        # 좌회전 금지\n",
        "        for nd in (d, (d+1) % 4):\n",
        "            dr, dc = DIRS[nd]\n",
        "            nr, nc = r + dr, c + dc\n",
        "            if inside(nr, nc) and maze[nr][nc] == 0 and not visited[nr][nc][nd]:\n",
        "                visited[nr][nc][nd] = True\n",
        "                parent[(nr, nc, nd)] = (r, c, d)\n",
        "                q.append((nr, nc, nd))\n",
        "\n",
        "    return None  # 경로 없음\n",
        "\n",
        "maze = [\n",
        "    [0, 0, 0, 0, 0, 0, 0, 0, 0, 0, 0, 0, 0],\n",
        "    [0, 1, 0, 1, 0, 1, 1, 1, 0, 1, 1, 1, 0],\n",
        "    [0, 1, 0, 0, 0, 0, 0, 0, 0, 0, 0, 0, 0],\n",
        "    [0, 1, 0, 1, 0, 1, 1, 1, 1, 1, 0, 1, 0],\n",
        "    [0, 1, 0, 1, 0, 0, 0, 0, 0, 0, 0, 1, 0],\n",
        "    [0, 1, 0, 1, 1, 1, 0, 1, 0, 1, 0, 1, 0],\n",
        "    [0, 0, 0, 0, 0, 0, 0, 0, 0, 1, 0, 1, 0],\n",
        "    [1, 1, 0, 1, 1, 1, 0, 1, 1, 1, 0, 1, 0],\n",
        "    [1, 1, 0, 0, 0, 0, 0, 0, 0, 0, 0, 1, 0],\n",
        "    [1, 1, 0, 1, 1, 1, 1, 1, 0, 1, 0, 1, 0],\n",
        "    [1, 1, 0, 0, 0, 0, 0, 0, 0, 0, 0, 0, 0],\n",
        "    [1, 1, 0, 1, 1, 1, 1, 1, 1, 1, 0, 1, 1]\n",
        "]\n",
        "\n",
        "# 아래에서 시작점과 끝 점을 좌표(행,렬)로 입력해야 함\n",
        "path = shortest_path_no_left(maze, (11, 10), (11, 2), init_dir=0)\n",
        "print(path)"
      ]
    },
    {
      "cell_type": "code",
      "source": [],
      "metadata": {
        "id": "P2NAxb4rzqnV"
      },
      "execution_count": null,
      "outputs": []
    },
    {
      "cell_type": "code",
      "metadata": {
        "colab": {
          "base_uri": "https://localhost:8080/"
        },
        "id": "9118205d",
        "outputId": "cd7b003f-3e5d-4610-877d-663a562397ac"
      },
      "source": [
        "print(path)"
      ],
      "execution_count": 4,
      "outputs": [
        {
          "output_type": "stream",
          "name": "stdout",
          "text": [
            "([(11, 10), (10, 10), (9, 10), (8, 10), (7, 10), (6, 10), (5, 10), (4, 10), (3, 10), (2, 10), (2, 11), (2, 12), (3, 12), (4, 12), (5, 12), (6, 12), (7, 12), (8, 12), (9, 12), (10, 12), (10, 11), (10, 10), (10, 9), (10, 8), (10, 7), (10, 6), (10, 5), (10, 4), (10, 3), (10, 2), (9, 2), (8, 2), (7, 2), (6, 2), (5, 2), (4, 2), (3, 2), (2, 2), (2, 3), (2, 4), (2, 5), (2, 6), (2, 7), (2, 8), (2, 9), (2, 10), (3, 10), (4, 10), (5, 10), (6, 10), (7, 10), (8, 10), (8, 9), (8, 8), (8, 7), (8, 6), (7, 6), (6, 6), (5, 6), (4, 6), (4, 7), (4, 8), (5, 8), (6, 8), (6, 7), (6, 6), (6, 5), (6, 4), (6, 3), (6, 2), (6, 1), (6, 0), (5, 0), (4, 0), (3, 0), (2, 0), (1, 0), (0, 0), (0, 1), (0, 2), (1, 2), (2, 2), (3, 2), (4, 2), (5, 2), (6, 2), (7, 2), (8, 2), (9, 2), (10, 2), (11, 2)], 'NNNNNNNNNEESSSSSSSSWWWWWWWWWWNNNNNNNNEEEEEEEESSSSSSWWWWNNNNEESSWWWWWWWWNNNNNNEESSSSSSSSSSS')\n"
          ]
        }
      ]
    },
    {
      "cell_type": "markdown",
      "metadata": {
        "id": "b56b1682"
      },
      "source": [
        "## 요약:\n",
        "\n",
        "### 데이터 분석 핵심 결과\n",
        "\n",
        "* `seaborn.heatmap`을 사용하여 미로의 히트맵이 성공적으로 생성되었으며, 이진 색상 맵을 사용하여 벽(1)과 열린 경로(0)를 효과적으로 구분했습니다.\n",
        "* `shortest_path_no_left` 함수로 찾은 최단 경로가 마커가 있는 빨간색 선을 사용하여 미로 시각화 위에 성공적으로 오버레이되었습니다.\n",
        "* 경로의 시작점과 목표 지점이 시각화에 명확하게 표시되었으며(시작은 녹색 '*', 목표는 파란색 'X'), 범례에 레이블이 지정되었습니다.\n",
        "* 시각화는 제목, 범례 및 축 눈금 제거를 통해 향상되어 명확성이 향상되었습니다.\n",
        "\n",
        "### 통찰력 또는 다음 단계\n",
        "\n",
        "* 시각화는 미로를 통한 최단 경로를 명확하게 보여주며, `shortest_path_no_left` 함수의 출력을 확인합니다.\n",
        "* 이 시각화는 이 특정 알고리즘(좌회전 없음)으로 찾은 최단 경로를 다른 경로 찾기 알고리즘으로 찾은 경로와 비교하는 데 사용할 수 있습니다."
      ]
    },
    {
      "cell_type": "markdown",
      "metadata": {
        "id": "74e69385"
      },
      "source": [
        "## 경로 오버레이\n",
        "\n",
        "### 하위 작업:\n",
        "`shortest_path_no_left` 함수로 찾은 경로를 시각화된 미로 위에 오버레이합니다."
      ]
    },
    {
      "cell_type": "markdown",
      "metadata": {
        "id": "32ed4356"
      },
      "source": [
        "**추론**:\n",
        "`path` 변수에서 경로 좌표를 추출하여 기존 미로 히트맵에 플롯합니다."
      ]
    },
    {
      "cell_type": "markdown",
      "metadata": {
        "id": "4cdd0270"
      },
      "source": [
        "## 시작 및 목표 마커 추가\n",
        "\n",
        "### 하위 작업:\n",
        "경로를 더 쉽게 이해할 수 있도록 시각화된 미로에 시작 및 목표 지점을 명확하게 표시합니다."
      ]
    },
    {
      "cell_type": "markdown",
      "metadata": {
        "id": "c4cf0f16"
      },
      "source": [
        "**추론**:\n",
        "경로에서 시작 및 목표 좌표를 추출하고 기존 미로 시각화에 다른 마커로 플롯합니다."
      ]
    },
    {
      "cell_type": "markdown",
      "metadata": {
        "id": "e07ea6ba"
      },
      "source": [
        "## 시각화 향상\n",
        "\n",
        "### 하위 작업:\n",
        "시각화를 명확하고 유익하게 만들기 위해 제목, 레이블 및 기타 필요한 요소를 추가하여 시각화를 향상시킵니다."
      ]
    },
    {
      "cell_type": "markdown",
      "metadata": {
        "id": "1deda64b"
      },
      "source": [
        "**추론**:\n",
        "지침에 따라 제목, 레이블 및 범례를 추가하여 시각화를 향상시킵니다."
      ]
    },
    {
      "cell_type": "markdown",
      "metadata": {
        "id": "7ee58c30"
      },
      "source": [
        "## 시각화 표시\n",
        "\n",
        "### 하위 작업:\n",
        "생성된 플롯을 사용자에게 보여줍니다."
      ]
    },
    {
      "cell_type": "markdown",
      "metadata": {
        "id": "fbf45a49"
      },
      "source": [
        "## 요약:\n",
        "\n",
        "### 데이터 분석 핵심 결과\n",
        "\n",
        "* `seaborn.heatmap`을 사용하여 미로의 히트맵이 성공적으로 생성되었으며, 이진 색상 맵을 사용하여 벽(1)과 열린 경로(0)를 효과적으로 구분했습니다.\n",
        "* `shortest_path_no_left` 함수로 찾은 최단 경로가 마커가 있는 빨간색 선을 사용하여 미로 시각화 위에 성공적으로 오버레이되었습니다.\n",
        "* 경로의 시작점과 목표 지점이 시각화에 명확하게 표시되었으며(시작은 녹색 '*', 목표는 파란색 'X'), 범례에 레이블이 지정되었습니다.\n",
        "* 시각화는 제목, 범례 및 축 눈금 제거를 통해 향상되어 명확성이 향상되었습니다.\n",
        "\n",
        "### 통찰력 또는 다음 단계\n",
        "\n",
        "* 시각화는 미로를 통한 최단 경로를 명확하게 보여주며, `shortest_path_no_left` 함수의 출력을 확인합니다.\n",
        "* 이 시각화는 이 특정 알고리즘(좌회전 없음)으로 찾은 최단 경로를 다른 경로 찾기 알고리즘으로 찾은 경로와 비교하는 데 사용할 수 있습니다."
      ]
    },
    {
      "cell_type": "markdown",
      "metadata": {
        "id": "2febba52"
      },
      "source": [
        "# Task\n",
        "Visualize the maze and the shortest path found by the `shortest_path_no_left` function."
      ]
    },
    {
      "cell_type": "markdown",
      "metadata": {
        "id": "0f17ef58"
      },
      "source": [
        "## Visualize the maze\n",
        "\n",
        "### Subtask:\n",
        "Create a visual representation of the maze. This could involve using libraries like Matplotlib or Seaborn to create a heatmap or similar plot where walls are represented by one color and open paths by another.\n"
      ]
    },
    {
      "cell_type": "markdown",
      "metadata": {
        "id": "dacc0fda"
      },
      "source": [
        "**Reasoning**:\n",
        "Create a heatmap of the maze to visualize the walls and open paths.\n",
        "\n"
      ]
    },
    {
      "cell_type": "code",
      "metadata": {
        "colab": {
          "base_uri": "https://localhost:8080/",
          "height": 675
        },
        "id": "46cf902b",
        "outputId": "10edb700-7be8-45f3-b5dc-555b0eae9eca"
      },
      "source": [
        "import matplotlib.pyplot as plt\n",
        "import seaborn as sns\n",
        "\n",
        "plt.figure(figsize=(10, 8))\n",
        "sns.heatmap(maze, annot=False, cmap='binary', cbar=False)\n",
        "plt.xticks([])\n",
        "plt.yticks([])\n",
        "plt.title('Maze Visualization')\n",
        "plt.show()"
      ],
      "execution_count": 5,
      "outputs": [
        {
          "output_type": "display_data",
          "data": {
            "text/plain": [
              "<Figure size 1000x800 with 1 Axes>"
            ],
            "image/png": "[encoded data removed]"
          },
          "metadata": {}
        }
      ]
    },
    {
      "cell_type": "markdown",
      "metadata": {
        "id": "8e706054"
      },
      "source": [
        "## 시작 및 목표 마커 추가\n",
        "\n",
        "### 하위 작업:\n",
        "경로를 더 쉽게 이해할 수 있도록 시각화된 미로에 시작 및 목표 지점을 명확하게 표시합니다."
      ]
    },
    {
      "cell_type": "markdown",
      "metadata": {
        "id": "a9c8d00c"
      },
      "source": [
        "**추론**:\n",
        "경로에서 시작 및 목표 좌표를 추출하고 기존 미로 시각화에 다른 마커로 플롯합니다."
      ]
    },
    {
      "cell_type": "markdown",
      "metadata": {
        "id": "16315195"
      },
      "source": [
        "## Overlay the path\n",
        "\n",
        "### Subtask:\n",
        "Overlay the path found by the `shortest_path_no_left` function on the visualized maze.\n"
      ]
    },
    {
      "cell_type": "markdown",
      "metadata": {
        "id": "57258ed4"
      },
      "source": [
        "**Reasoning**:\n",
        "Extract the path coordinates from the `path` variable and plot them on the existing maze heatmap.\n",
        "\n"
      ]
    },
    {
      "cell_type": "code",
      "metadata": {
        "colab": {
          "base_uri": "https://localhost:8080/",
          "height": 675
        },
        "id": "c9c991ed",
        "outputId": "71fb64a7-000d-4e69-ed16-2f2d2a1348fb"
      },
      "source": [
        "path_cells = path[0]\n",
        "path_rows = [cell[0] for cell in path_cells]\n",
        "path_cols = [cell[1] for cell in path_cells]\n",
        "\n",
        "plt.figure(figsize=(10, 8))\n",
        "sns.heatmap(maze, annot=False, cmap='binary', cbar=False)\n",
        "plt.plot(path_cols, path_rows, marker='o', color='red', linewidth=2, markersize=5)\n",
        "plt.xticks([])\n",
        "plt.yticks([])\n",
        "plt.title('Maze with Shortest Path')\n",
        "plt.show()"
      ],
      "execution_count": 6,
      "outputs": [
        {
          "output_type": "display_data",
          "data": {
            "text/plain": [
              "<Figure size 1000x800 with 1 Axes>"
            ],
            "image/png": "[encoded data removed]"
          },
          "metadata": {}
        }
      ]
    },
    {
      "cell_type": "markdown",
      "metadata": {
        "id": "d7017460"
      },
      "source": [
        "## Add start and goal markers\n",
        "\n",
        "### Subtask:\n",
        "Clearly mark the start and goal points on the visualized maze to make the path more understandable.\n"
      ]
    },
    {
      "cell_type": "markdown",
      "metadata": {
        "id": "70b9da41"
      },
      "source": [
        "**Reasoning**:\n",
        "Extract the start and goal coordinates from the path and plot them on the existing maze visualization with distinct markers.\n",
        "\n"
      ]
    },
    {
      "cell_type": "code",
      "metadata": {
        "colab": {
          "base_uri": "https://localhost:8080/",
          "height": 675
        },
        "id": "42e62eef",
        "outputId": "38cad243-4740-4fd5-d1a8-3d416faa189a"
      },
      "source": [
        "start_cell = path[0][0]\n",
        "goal_cell = path[0][-1]\n",
        "\n",
        "plt.figure(figsize=(10, 8))\n",
        "sns.heatmap(maze, annot=False, cmap='binary', cbar=False)\n",
        "plt.plot(path_cols, path_rows, marker='o', color='red', linewidth=2, markersize=5)\n",
        "plt.plot(start_cell[1], start_cell[0], marker='*', color='green', markersize=15, label='Start')\n",
        "plt.plot(goal_cell[1], goal_cell[0], marker='X', color='blue', markersize=15, label='Goal')\n",
        "plt.xticks([])\n",
        "plt.yticks([])\n",
        "plt.title('Maze with Shortest Path, Start, and Goal')\n",
        "plt.legend()\n",
        "plt.show()"
      ],
      "execution_count": 7,
      "outputs": [
        {
          "output_type": "display_data",
          "data": {
            "text/plain": [
              "<Figure size 1000x800 with 1 Axes>"
            ],
            "image/png": "[encoded data removed]"
          },
          "metadata": {}
        }
      ]
    },
    {
      "cell_type": "markdown",
      "metadata": {
        "id": "2de22111"
      },
      "source": [
        "## Enhance the visualization\n",
        "\n",
        "### Subtask:\n",
        "Enhance the visualization by adding titles, labels, and any other necessary elements to make it clear and informative.\n"
      ]
    },
    {
      "cell_type": "markdown",
      "metadata": {
        "id": "600d5b7b"
      },
      "source": [
        "**Reasoning**:\n",
        "Enhance the visualization by adding titles, labels, and a legend based on the instructions.\n",
        "\n"
      ]
    },
    {
      "cell_type": "code",
      "metadata": {
        "colab": {
          "base_uri": "https://localhost:8080/",
          "height": 831
        },
        "id": "377a7654",
        "outputId": "73ae439e-3be5-4346-f709-efe76b5276d7"
      },
      "source": [
        "plt.figure(figsize=(12, 10)) # Adjusted figure size\n",
        "sns.heatmap(maze, annot=False, cmap='binary', cbar=False)\n",
        "plt.plot(path_cols, path_rows, marker='o', color='red', linewidth=2, markersize=5)\n",
        "plt.plot(start_cell[1], start_cell[0], marker='*', color='green', markersize=15, label='Start')\n",
        "plt.plot(goal_cell[1], goal_cell[0], marker='X', color='blue', markersize=15, label='Goal')\n",
        "plt.xticks([]) # Removed x-axis ticks\n",
        "plt.yticks([]) # Removed y-axis ticks\n",
        "plt.title('Maze with Shortest Path, Start, and Goal', fontsize=16) # Added title\n",
        "plt.legend(fontsize=12) # Added legend\n",
        "plt.show()"
      ],
      "execution_count": 8,
      "outputs": [
        {
          "output_type": "display_data",
          "data": {
            "text/plain": [
              "<Figure size 1200x1000 with 1 Axes>"
            ],
            "image/png": "[encoded data removed]"
          },
          "metadata": {}
        }
      ]
    },
    {
      "cell_type": "markdown",
      "metadata": {
        "id": "047df602"
      },
      "source": [
        "## Display the visualization\n",
        "\n",
        "### Subtask:\n",
        "Show the generated plot to the user.\n"
      ]
    },
    {
      "cell_type": "markdown",
      "metadata": {
        "id": "0dbac77a"
      },
      "source": [
        "## Summary:\n",
        "\n",
        "### Data Analysis Key Findings\n",
        "\n",
        "*   A heatmap of the maze was successfully generated using `seaborn.heatmap`, effectively distinguishing between walls (1) and open paths (0) using a binary colormap.\n",
        "*   The shortest path found by the `shortest_path_no_left` function was successfully overlaid on the maze visualization using a red line with markers.\n",
        "*   The start and goal points of the path were clearly marked on the visualization using distinct markers (green '*' for start and blue 'X' for goal) and labeled in a legend.\n",
        "*   The visualization was enhanced with a title, legend, and removal of axis ticks for improved clarity.\n",
        "\n",
        "### Insights or Next Steps\n",
        "\n",
        "*   The visualization clearly shows the shortest path through the maze, confirming the output of the `shortest_path_no_left` function.\n",
        "*   This visualization could be used to compare the shortest path found by this specific algorithm (no left turns) with paths found by other pathfinding algorithms.\n"
      ]
    }
  ]
}