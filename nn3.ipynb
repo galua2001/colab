{
  "nbformat": 4,
  "nbformat_minor": 0,
  "metadata": {
    "colab": {
      "provenance": [],
      "authorship_tag": "ABX9TyNSAwHc3vO0YLhFGU/B0c/3",
      "include_colab_link": true
    },
    "kernelspec": {
      "name": "python3",
      "display_name": "Python 3"
    },
    "language_info": {
      "name": "python"
    }
  },
  "cells": [
    {
      "cell_type": "markdown",
      "metadata": {
        "id": "view-in-github",
        "colab_type": "text"
      },
      "source": [
        "<a href=\"https://colab.research.google.com/github/galua2001/colab/blob/main/nn3.ipynb\" target=\"_parent\"><img src=\"https://colab.research.google.com/assets/colab-badge.svg\" alt=\"Open In Colab\"/></a>"
      ]
    },
    {
      "cell_type": "code",
      "execution_count": 213,
      "metadata": {
        "id": "CtqswW9LP0qD"
      },
      "outputs": [],
      "source": [
        "import numpy as np\n",
        "import matplotlib.pyplot as plt\n",
        "n=100\n",
        "np.random.seed(1)\n",
        "tx=(np.random.rand(n,2)*n).astype(np.int32)+1"
      ]
    },
    {
      "cell_type": "code",
      "source": [
        "print(tx)"
      ],
      "metadata": {
        "colab": {
          "base_uri": "https://localhost:8080/"
        },
        "collapsed": true,
        "id": "2V5q-TBZQTkS",
        "outputId": "4c4e3896-5487-4c01-c7f4-3e4e9f360b8b"
      },
      "execution_count": 214,
      "outputs": [
        {
          "output_type": "stream",
          "name": "stdout",
          "text": [
            "[[ 42  73]\n",
            " [  1  31]\n",
            " [ 15  10]\n",
            " [ 19  35]\n",
            " [ 40  54]\n",
            " [ 42  69]\n",
            " [ 21  88]\n",
            " [  3  68]\n",
            " [ 42  56]\n",
            " [ 15  20]\n",
            " [ 81  97]\n",
            " [ 32  70]\n",
            " [ 88  90]\n",
            " [  9   4]\n",
            " [ 17  88]\n",
            " [ 10  43]\n",
            " [ 96  54]\n",
            " [ 70  32]\n",
            " [ 69  84]\n",
            " [  2  76]\n",
            " [ 99  75]\n",
            " [ 29  79]\n",
            " [ 11  45]\n",
            " [ 91  30]\n",
            " [ 29  14]\n",
            " [  2  68]\n",
            " [ 22  27]\n",
            " [ 50   6]\n",
            " [ 58  15]\n",
            " [ 59  70]\n",
            " [ 11  42]\n",
            " [ 70  42]\n",
            " [  5  54]\n",
            " [ 67  52]\n",
            " [ 95  59]\n",
            " [ 91  14]\n",
            " [ 14  81]\n",
            " [ 40  17]\n",
            " [ 93  35]\n",
            " [ 76  73]\n",
            " [ 89  63]\n",
            " [ 76  35]\n",
            " [ 27  90]\n",
            " [ 43  97]\n",
            " [ 67  63]\n",
            " [ 12  95]\n",
            " [ 45  58]\n",
            " [ 41  24]\n",
            " [ 91  58]\n",
            " [  1  62]\n",
            " [ 33  53]\n",
            " [ 89  36]\n",
            " [ 91  63]\n",
            " [  2  93]\n",
            " [ 70 100]\n",
            " [ 18  14]\n",
            " [ 94  70]\n",
            " [  7  76]\n",
            " [ 76  93]\n",
            " [ 72  13]\n",
            " [  2   3]\n",
            " [  3  25]\n",
            " [ 87  54]\n",
            " [ 56  85]\n",
            " [ 13  28]\n",
            " [ 59  97]\n",
            " [ 57   2]\n",
            " [ 81  24]\n",
            " [ 81  39]\n",
            " [ 87  75]\n",
            " [ 56  14]\n",
            " [  6  13]\n",
            " [  5  11]\n",
            " [ 23  72]\n",
            " [ 56   2]\n",
            " [  8  97]\n",
            " [ 57  21]\n",
            " [ 26  75]\n",
            " [ 20  59]\n",
            " [ 98  85]\n",
            " [ 24  50]\n",
            " [ 62  83]\n",
            " [ 16   2]\n",
            " [  8  49]\n",
            " [ 61  57]\n",
            " [ 32  99]\n",
            " [ 58  39]\n",
            " [ 56  75]\n",
            " [ 67  27]\n",
            " [  7  38]\n",
            " [ 63  22]\n",
            " [ 76   7]\n",
            " [ 27  81]\n",
            " [ 20  64]\n",
            " [ 53  93]\n",
            " [ 27   7]\n",
            " [ 74  78]\n",
            " [ 91  94]\n",
            " [  2  24]\n",
            " [ 62  95]]\n"
          ]
        }
      ]
    },
    {
      "cell_type": "markdown",
      "source": [],
      "metadata": {
        "id": "YLqvz0MvQ37S"
      }
    },
    {
      "cell_type": "markdown",
      "source": [],
      "metadata": {
        "id": "Mx62LV-rQ5CW"
      }
    },
    {
      "cell_type": "code",
      "source": [
        "ty= (tx.min(axis=1) / tx.max(axis=1) <= 0.4).astype(np.int32)\n",
        ""
      ],
      "metadata": {
        "id": "4rK6e9uKQwcd"
      },
      "execution_count": 215,
      "outputs": []
    },
    {
      "cell_type": "code",
      "source": [
        "print(ty)"
      ],
      "metadata": {
        "colab": {
          "base_uri": "https://localhost:8080/"
        },
        "id": "_9gMuEf_RAP6",
        "outputId": "ee44daa5-d4a6-4f30-b3eb-928e91ee2e78"
      },
      "execution_count": 216,
      "outputs": [
        {
          "output_type": "stream",
          "name": "stdout",
          "text": [
            "[0 1 0 0 0 0 1 1 0 0 0 0 0 0 1 1 0 0 0 1 0 1 1 1 0 1 0 1 1 0 1 0 1 0 0 1 1\n",
            " 0 1 0 0 0 1 0 0 1 0 0 0 1 0 0 0 1 0 0 0 1 0 1 0 1 0 0 0 0 1 1 0 0 1 0 0 1\n",
            " 1 1 1 1 1 0 0 0 1 1 0 1 0 0 0 1 1 1 1 1 0 1 0 0 1 0]\n"
          ]
        }
      ]
    },
    {
      "cell_type": "code",
      "source": [
        "# 산점도 표시\n",
        "x_t0 = tx[ty == 0]\n",
        "x_t1 = tx[ty == 1]\n",
        "plt.figure(figsize=(6,6))\n",
        "plt.scatter(x_t0[:,0], x_t0[:,1], marker='x', c='b', label='0 (setosa)')\n",
        "plt.scatter(x_t1[:,0], x_t1[:,1], marker='o', c='k', label='1 (versicolor)')\n",
        "plt.xlabel('sepal_length', fontsize=14)\n",
        "plt.ylabel('sepal_width', fontsize=14)\n",
        "plt.xticks(size=16)\n",
        "plt.yticks(size=16)\n",
        "plt.legend(fontsize=16)\n",
        "xl=np.asarray([tx[:,0].min(),tx[:,0].max()])\n",
        "plt.plot(xl,-((w[0]+w[1]*xl)/w[2]))\n",
        "plt.plot(xl,-((model_lr.intercept_[0]+model_lr.coef_[0][1]*xl)/model_lr.coef_[0][2]))\n",
        "plt.plot(xl,-((model_svm.intercept_[0]+model_svm.coef_[0][1]*xl)/model_svm.coef_[0][2]))\n",
        "plt.show()"
      ],
      "metadata": {
        "colab": {
          "base_uri": "https://localhost:8080/",
          "height": 554
        },
        "id": "2Ndckk6_Wkd0",
        "outputId": "73321ab9-96c3-4835-b2fa-9773653caa25"
      },
      "execution_count": 221,
      "outputs": [
        {
          "output_type": "display_data",
          "data": {
            "text/plain": [
              "<Figure size 600x600 with 1 Axes>"
            ],
            "image/png": "[encoded data removed]"
          },
          "metadata": {}
        }
      ]
    },
    {
      "cell_type": "code",
      "source": [],
      "metadata": {
        "id": "brA0HU-6d00-"
      },
      "execution_count": null,
      "outputs": []
    },
    {
      "cell_type": "code",
      "source": [
        "tx=np.insert(tx,0,1,axis=1)"
      ],
      "metadata": {
        "id": "5gQYE7bYRmCT"
      },
      "execution_count": null,
      "outputs": []
    },
    {
      "cell_type": "code",
      "source": [
        "def sigmoid(x):\n",
        "  return 1/(1+np.exp(-x))"
      ],
      "metadata": {
        "id": "ezYEpr6QRzF0"
      },
      "execution_count": null,
      "outputs": []
    },
    {
      "cell_type": "code",
      "source": [
        "def pred(x,w):\n",
        "  return sigmoid(np.dot(x,w))"
      ],
      "metadata": {
        "id": "KhIv-CDfSCcC"
      },
      "execution_count": null,
      "outputs": []
    },
    {
      "cell_type": "code",
      "source": [
        "m=tx.shape[0]"
      ],
      "metadata": {
        "id": "a4ESFuQ7TXGM"
      },
      "execution_count": null,
      "outputs": []
    },
    {
      "cell_type": "code",
      "source": [
        "print(m)"
      ],
      "metadata": {
        "id": "xs88EfEqTink"
      },
      "execution_count": null,
      "outputs": []
    },
    {
      "cell_type": "code",
      "source": [
        "d=tx.shape[1]\n",
        "w=np.ones(d)\n",
        "yp=pred(tx,w)"
      ],
      "metadata": {
        "id": "iaBBT5gZTp90"
      },
      "execution_count": null,
      "outputs": []
    },
    {
      "cell_type": "code",
      "source": [
        "print(d)"
      ],
      "metadata": {
        "id": "RENqLmZlTw2s"
      },
      "execution_count": null,
      "outputs": []
    },
    {
      "cell_type": "code",
      "source": [
        "# 손실함수(교차 엔트로피 함수)\n",
        "def cross_entropy(yt, yp):\n",
        "    # 교차 엔트로피의 계산 (이 단계에서는 벡터)\n",
        "    ce1 = -(yt * np.log(yp) + (1 - yt) * np.log(1 - yp))\n",
        "    # 교차 엔트로피 벡터의 평균값을 계산\n",
        "    return(np.mean(ce1))"
      ],
      "metadata": {
        "id": "7F7OV_LOYkFv"
      },
      "execution_count": null,
      "outputs": []
    },
    {
      "cell_type": "code",
      "source": [
        "# 예측 결과의 확률값에서 0이나 1을 판단하는 함수\n",
        "def classify(y):\n",
        "    return np.where(y < 0.5, 0, 1)"
      ],
      "metadata": {
        "id": "PJtXlvb_ZlXj"
      },
      "execution_count": null,
      "outputs": []
    },
    {
      "cell_type": "code",
      "source": [
        "# 모델을 평가하는 함수\n",
        "from sklearn.metrics import accuracy_score\n",
        "def evaluate(xt, yt, w):\n",
        "\n",
        "    # 예측값 계산\n",
        "    yp = pred(xt, w)\n",
        "\n",
        "    # 손실함수 값 계산\n",
        "    loss = cross_entropy(yt, yp)\n",
        "\n",
        "    # 예측값(확률값)을 0이나 1로 변환\n",
        "    yp_b = classify(yp)\n",
        "\n",
        "    # 정확도 산출\n",
        "    score = accuracy_score(yt, yp_b)\n",
        "    return loss, score"
      ],
      "metadata": {
        "id": "cko1gpGzZuq2"
      },
      "execution_count": null,
      "outputs": []
    },
    {
      "cell_type": "code",
      "source": [
        "iters=100\n",
        "alpha=0.01"
      ],
      "metadata": {
        "id": "VYslSwbQT26M"
      },
      "execution_count": null,
      "outputs": []
    },
    {
      "cell_type": "code",
      "source": [
        "history=np.zeros((0,3))"
      ],
      "metadata": {
        "id": "k1TdGXe9UFNb"
      },
      "execution_count": null,
      "outputs": []
    },
    {
      "cell_type": "code",
      "source": [
        "for k in range(iters):\n",
        "  yp=pred(tx,w)\n",
        "  yd=ty-yp\n",
        "  grad=np.dot(tx.T,yd)/m\n",
        "  w=w-alpha*grad"
      ],
      "metadata": {
        "id": "eCf91wpuUPE3"
      },
      "execution_count": null,
      "outputs": []
    },
    {
      "cell_type": "code",
      "source": [
        "if(k % 10==0):\n",
        "  loss, score=evaluate(tx,ty,w)\n",
        "  history=np.vstack((history,[k,loss,score]))\n",
        "  print(k,loss,score)\n"
      ],
      "metadata": {
        "id": "eJLYVjE3UwF-"
      },
      "execution_count": null,
      "outputs": []
    },
    {
      "cell_type": "code",
      "source": [
        "print(w)"
      ],
      "metadata": {
        "id": "3KPs-P01ajXM"
      },
      "execution_count": null,
      "outputs": []
    },
    {
      "cell_type": "code",
      "source": [
        "from sklearn.linear_model import LogisticRegression\n",
        "from sklearn import svm\n",
        "\n",
        "# 모델 생성\n",
        "model_lr = LogisticRegression(solver='liblinear')\n",
        "model_svm = svm.SVC(kernel='linear')\n",
        "\n",
        "# 기계 학습 실시\n",
        "model_lr.fit(tx, ty)\n",
        "model_svm.fit(tx, ty)"
      ],
      "metadata": {
        "id": "VoC-pmYObeND"
      },
      "execution_count": null,
      "outputs": []
    },
    {
      "cell_type": "code",
      "source": [
        "print(model_lr.coef_)\n",
        "print(model_svm.coef_)"
      ],
      "metadata": {
        "id": "rlCRW45obqKJ"
      },
      "execution_count": null,
      "outputs": []
    },
    {
      "cell_type": "code",
      "source": [
        "# 선형 회귀\n",
        "# 절편의 값\n",
        "lr_w0 = model_lr.intercept_[0]\n",
        "# x1(sepal_length)의 계수\n",
        "lr_w1 = model_lr.coef_[0,1]\n",
        "# x2(sepal_width)의 계수\n",
        "lr_w2 = model_lr.coef_[0,2]\n",
        "\n",
        "# SVM\n",
        "# 절편의 값\n",
        "svm_w0 = model_svm.intercept_[0]\n",
        "# x1(sepal_length)의 계수\n",
        "svm_w1 = model_svm.coef_[0,1]\n",
        "# x2(sepal_width)의 계수\n",
        "svm_w2 = model_svm.coef_[0,2]"
      ],
      "metadata": {
        "id": "9oEwPEDAcUCb"
      },
      "execution_count": null,
      "outputs": []
    },
    {
      "cell_type": "code",
      "source": [
        "def b(x, w):\n",
        "    return(-(w[0] + w[1] * x)/ w[2])\n",
        "# 산점도 x1의 최솟값과 최댓값\n",
        "xl = np.asarray([tx[:,1].min(), tx[:,1].max()])\n",
        "yl = b(xl, w)"
      ],
      "metadata": {
        "id": "MbDcBRTAgBUz"
      },
      "execution_count": null,
      "outputs": []
    },
    {
      "cell_type": "code",
      "source": [
        "xl = np.asarray([tx[:,1].min(), tx[:,1].max()])\n",
        "yl = b(xl, w)"
      ],
      "metadata": {
        "id": "ClpRlwH5c_rM"
      },
      "execution_count": null,
      "outputs": []
    },
    {
      "cell_type": "code",
      "source": [
        "# 한계 직선 그리기용 x1의 값에서 x2의 값을 계산\n",
        "def rl(x):\n",
        "    wk = lr_w0 + lr_w1 * x\n",
        "    wk2 = -wk / lr_w2\n",
        "    return(wk2)\n",
        "# 한계 직선 그리기용 x1의 값에서 x2의 값을 계산\n",
        "def svm(x):\n",
        "    wk = svm_w0 + svm_w1 * x\n",
        "    wk2 = -wk / svm_w2\n",
        "    return(wk2)\n",
        "y_rl = rl(xl)\n",
        "y_svm = svm(xl)\n",
        "# 결과 확인\n",
        "print(xl, yl, y_rl, y_svm)"
      ],
      "metadata": {
        "id": "dK96JO7Ac317"
      },
      "execution_count": null,
      "outputs": []
    }
  ]
}