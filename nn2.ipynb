{
  "nbformat": 4,
  "nbformat_minor": 0,
  "metadata": {
    "colab": {
      "provenance": [],
      "authorship_tag": "ABX9TyMqM+LYkU8C4pvDssvTd9Bu",
      "include_colab_link": true
    },
    "kernelspec": {
      "name": "python3",
      "display_name": "Python 3"
    },
    "language_info": {
      "name": "python"
    }
  },
  "cells": [
    {
      "cell_type": "markdown",
      "metadata": {
        "id": "view-in-github",
        "colab_type": "text"
      },
      "source": [
        "<a href=\"https://colab.research.google.com/github/galua2001/colab/blob/main/nn2.ipynb\" target=\"_parent\"><img src=\"https://colab.research.google.com/assets/colab-badge.svg\" alt=\"Open In Colab\"/></a>"
      ]
    },
    {
      "cell_type": "code",
      "execution_count": 258,
      "metadata": {
        "id": "iGY57m-ag1cb"
      },
      "outputs": [],
      "source": [
        "import numpy as np\n",
        "n=100\n",
        "np.random.seed(1)"
      ]
    },
    {
      "cell_type": "code",
      "source": [
        "tx=(np.random.rand(n,2)*n).astype(np.int32)+1"
      ],
      "metadata": {
        "id": "BjyUAbtMhuvE"
      },
      "execution_count": 259,
      "outputs": []
    },
    {
      "cell_type": "code",
      "source": [
        "print(tx)"
      ],
      "metadata": {
        "colab": {
          "base_uri": "https://localhost:8080/"
        },
        "collapsed": true,
        "id": "HR2NzfI-iDg5",
        "outputId": "ab4c6701-88ec-4330-e75e-d3b57dcb8fc6"
      },
      "execution_count": 260,
      "outputs": [
        {
          "output_type": "stream",
          "name": "stdout",
          "text": [
            "[[ 42  73]\n",
            " [  1  31]\n",
            " [ 15  10]\n",
            " [ 19  35]\n",
            " [ 40  54]\n",
            " [ 42  69]\n",
            " [ 21  88]\n",
            " [  3  68]\n",
            " [ 42  56]\n",
            " [ 15  20]\n",
            " [ 81  97]\n",
            " [ 32  70]\n",
            " [ 88  90]\n",
            " [  9   4]\n",
            " [ 17  88]\n",
            " [ 10  43]\n",
            " [ 96  54]\n",
            " [ 70  32]\n",
            " [ 69  84]\n",
            " [  2  76]\n",
            " [ 99  75]\n",
            " [ 29  79]\n",
            " [ 11  45]\n",
            " [ 91  30]\n",
            " [ 29  14]\n",
            " [  2  68]\n",
            " [ 22  27]\n",
            " [ 50   6]\n",
            " [ 58  15]\n",
            " [ 59  70]\n",
            " [ 11  42]\n",
            " [ 70  42]\n",
            " [  5  54]\n",
            " [ 67  52]\n",
            " [ 95  59]\n",
            " [ 91  14]\n",
            " [ 14  81]\n",
            " [ 40  17]\n",
            " [ 93  35]\n",
            " [ 76  73]\n",
            " [ 89  63]\n",
            " [ 76  35]\n",
            " [ 27  90]\n",
            " [ 43  97]\n",
            " [ 67  63]\n",
            " [ 12  95]\n",
            " [ 45  58]\n",
            " [ 41  24]\n",
            " [ 91  58]\n",
            " [  1  62]\n",
            " [ 33  53]\n",
            " [ 89  36]\n",
            " [ 91  63]\n",
            " [  2  93]\n",
            " [ 70 100]\n",
            " [ 18  14]\n",
            " [ 94  70]\n",
            " [  7  76]\n",
            " [ 76  93]\n",
            " [ 72  13]\n",
            " [  2   3]\n",
            " [  3  25]\n",
            " [ 87  54]\n",
            " [ 56  85]\n",
            " [ 13  28]\n",
            " [ 59  97]\n",
            " [ 57   2]\n",
            " [ 81  24]\n",
            " [ 81  39]\n",
            " [ 87  75]\n",
            " [ 56  14]\n",
            " [  6  13]\n",
            " [  5  11]\n",
            " [ 23  72]\n",
            " [ 56   2]\n",
            " [  8  97]\n",
            " [ 57  21]\n",
            " [ 26  75]\n",
            " [ 20  59]\n",
            " [ 98  85]\n",
            " [ 24  50]\n",
            " [ 62  83]\n",
            " [ 16   2]\n",
            " [  8  49]\n",
            " [ 61  57]\n",
            " [ 32  99]\n",
            " [ 58  39]\n",
            " [ 56  75]\n",
            " [ 67  27]\n",
            " [  7  38]\n",
            " [ 63  22]\n",
            " [ 76   7]\n",
            " [ 27  81]\n",
            " [ 20  64]\n",
            " [ 53  93]\n",
            " [ 27   7]\n",
            " [ 74  78]\n",
            " [ 91  94]\n",
            " [  2  24]\n",
            " [ 62  95]]\n"
          ]
        }
      ]
    },
    {
      "cell_type": "code",
      "source": [
        "ty=[]\n",
        "for i in tx:\n",
        "  if i[0]/i[1] <0.2:\n",
        "    ty.append(0)\n",
        "  else:\n",
        "    ty.append(1)"
      ],
      "metadata": {
        "id": "w79pXqV9i3U8"
      },
      "execution_count": 261,
      "outputs": []
    },
    {
      "cell_type": "code",
      "source": [
        "print(ty)"
      ],
      "metadata": {
        "colab": {
          "base_uri": "https://localhost:8080/"
        },
        "id": "0BshDCZqDglp",
        "outputId": "a480ebb4-2d0a-43a0-d632-dae1f09ec88f"
      },
      "execution_count": 262,
      "outputs": [
        {
          "output_type": "stream",
          "name": "stdout",
          "text": [
            "[1, 0, 1, 1, 1, 1, 1, 0, 1, 1, 1, 1, 1, 1, 0, 1, 1, 1, 1, 0, 1, 1, 1, 1, 1, 0, 1, 1, 1, 1, 1, 1, 0, 1, 1, 1, 0, 1, 1, 1, 1, 1, 1, 1, 1, 0, 1, 1, 1, 0, 1, 1, 1, 0, 1, 1, 1, 0, 1, 1, 1, 0, 1, 1, 1, 1, 1, 1, 1, 1, 1, 1, 1, 1, 1, 0, 1, 1, 1, 1, 1, 1, 1, 0, 1, 1, 1, 1, 1, 0, 1, 1, 1, 1, 1, 1, 1, 1, 0, 1]\n"
          ]
        }
      ]
    },
    {
      "cell_type": "code",
      "source": [
        "ty=np.array(ty)"
      ],
      "metadata": {
        "id": "Yc8dNreHDx3P"
      },
      "execution_count": 263,
      "outputs": []
    },
    {
      "cell_type": "code",
      "source": [
        "ty.reshape(-1,1)"
      ],
      "metadata": {
        "colab": {
          "base_uri": "https://localhost:8080/"
        },
        "collapsed": true,
        "id": "NJwbMI0iD5JY",
        "outputId": "29103e91-4cd6-438f-bfe3-63bd709db0f1"
      },
      "execution_count": 264,
      "outputs": [
        {
          "output_type": "execute_result",
          "data": {
            "text/plain": [
              "array([[1],\n",
              "       [0],\n",
              "       [1],\n",
              "       [1],\n",
              "       [1],\n",
              "       [1],\n",
              "       [1],\n",
              "       [0],\n",
              "       [1],\n",
              "       [1],\n",
              "       [1],\n",
              "       [1],\n",
              "       [1],\n",
              "       [1],\n",
              "       [0],\n",
              "       [1],\n",
              "       [1],\n",
              "       [1],\n",
              "       [1],\n",
              "       [0],\n",
              "       [1],\n",
              "       [1],\n",
              "       [1],\n",
              "       [1],\n",
              "       [1],\n",
              "       [0],\n",
              "       [1],\n",
              "       [1],\n",
              "       [1],\n",
              "       [1],\n",
              "       [1],\n",
              "       [1],\n",
              "       [0],\n",
              "       [1],\n",
              "       [1],\n",
              "       [1],\n",
              "       [0],\n",
              "       [1],\n",
              "       [1],\n",
              "       [1],\n",
              "       [1],\n",
              "       [1],\n",
              "       [1],\n",
              "       [1],\n",
              "       [1],\n",
              "       [0],\n",
              "       [1],\n",
              "       [1],\n",
              "       [1],\n",
              "       [0],\n",
              "       [1],\n",
              "       [1],\n",
              "       [1],\n",
              "       [0],\n",
              "       [1],\n",
              "       [1],\n",
              "       [1],\n",
              "       [0],\n",
              "       [1],\n",
              "       [1],\n",
              "       [1],\n",
              "       [0],\n",
              "       [1],\n",
              "       [1],\n",
              "       [1],\n",
              "       [1],\n",
              "       [1],\n",
              "       [1],\n",
              "       [1],\n",
              "       [1],\n",
              "       [1],\n",
              "       [1],\n",
              "       [1],\n",
              "       [1],\n",
              "       [1],\n",
              "       [0],\n",
              "       [1],\n",
              "       [1],\n",
              "       [1],\n",
              "       [1],\n",
              "       [1],\n",
              "       [1],\n",
              "       [1],\n",
              "       [0],\n",
              "       [1],\n",
              "       [1],\n",
              "       [1],\n",
              "       [1],\n",
              "       [1],\n",
              "       [0],\n",
              "       [1],\n",
              "       [1],\n",
              "       [1],\n",
              "       [1],\n",
              "       [1],\n",
              "       [1],\n",
              "       [1],\n",
              "       [1],\n",
              "       [0],\n",
              "       [1]])"
            ]
          },
          "metadata": {},
          "execution_count": 264
        }
      ]
    },
    {
      "cell_type": "code",
      "source": [
        "# ty = (tx.min(axis=1) / tx.max(axis=1) <= 0.2).astype(np.int32)[np.newaxis].T"
      ],
      "metadata": {
        "id": "LvZ3zo0VBhXh"
      },
      "execution_count": 265,
      "outputs": []
    },
    {
      "cell_type": "code",
      "source": [
        "# print(ty)"
      ],
      "metadata": {
        "id": "i7fzxyNHjVaM"
      },
      "execution_count": 266,
      "outputs": []
    },
    {
      "cell_type": "code",
      "source": [
        "mu=tx.mean(axis=0)\n",
        "sigma=tx.std(axis=0)"
      ],
      "metadata": {
        "id": "geCfKbaujfw0"
      },
      "execution_count": 267,
      "outputs": []
    },
    {
      "cell_type": "code",
      "source": [
        "def st(x):\n",
        "  return(x-mu)/sigma"
      ],
      "metadata": {
        "id": "-VeFFcdfkYpX"
      },
      "execution_count": 268,
      "outputs": []
    },
    {
      "cell_type": "code",
      "source": [
        "tx=st(tx)"
      ],
      "metadata": {
        "id": "jpbQHjdkkj_t"
      },
      "execution_count": 269,
      "outputs": []
    },
    {
      "cell_type": "code",
      "source": [
        "w1=np.random.rand(2,2)"
      ],
      "metadata": {
        "id": "bnS8Lqw2k3rN"
      },
      "execution_count": 270,
      "outputs": []
    },
    {
      "cell_type": "code",
      "source": [
        "print(w1)"
      ],
      "metadata": {
        "collapsed": true,
        "colab": {
          "base_uri": "https://localhost:8080/"
        },
        "id": "dtXojYwPl1DE",
        "outputId": "e41bfe8d-892e-49a9-9536-578a04de18c9"
      },
      "execution_count": 271,
      "outputs": [
        {
          "output_type": "stream",
          "name": "stdout",
          "text": [
            "[[0.95017612 0.55665319]\n",
            " [0.91560635 0.64156621]]\n"
          ]
        }
      ]
    },
    {
      "cell_type": "code",
      "source": [
        "w2=np.random.rand(2,2)\n",
        "w3=np.random.rand(1,2)\n",
        "b1=np.random.rand(2)\n",
        "b2=np.random.rand(2)\n",
        "b3=np.random.rand(1)"
      ],
      "metadata": {
        "id": "-mEiMLKllUJ_"
      },
      "execution_count": 272,
      "outputs": []
    },
    {
      "cell_type": "code",
      "source": [
        "def sigmoid(x):\n",
        "  return 1/(1+np.exp(-x))"
      ],
      "metadata": {
        "id": "OrVw3U1SlnDU"
      },
      "execution_count": 273,
      "outputs": []
    },
    {
      "cell_type": "code",
      "source": [
        "def forward(x0):\n",
        "  z1=np.dot(x0, w1.T)+b1\n",
        "  a1=sigmoid(z1)\n",
        "  z2=np.dot(a1,w2.T)+b2\n",
        "  a2=sigmoid(z2)\n",
        "  z3=np.dot(a2, w3.T)+b3\n",
        "  a3=sigmoid(z3)\n",
        "  return a1,a2,z3,z1,z2,a3\n"
      ],
      "metadata": {
        "id": "730ATmQxmWml"
      },
      "execution_count": 274,
      "outputs": []
    },
    {
      "cell_type": "code",
      "source": [
        "def dsigmoid(x):\n",
        "  return (1-sigmoid(x))*sigmoid(x)"
      ],
      "metadata": {
        "id": "69m2_UXBmyzu"
      },
      "execution_count": 275,
      "outputs": []
    },
    {
      "cell_type": "code",
      "source": [
        "def delta_output(z,y):\n",
        "  return (sigmoid(z)-y)*dsigmoid(z)"
      ],
      "metadata": {
        "id": "18ywW27Gn-9h"
      },
      "execution_count": 276,
      "outputs": []
    },
    {
      "cell_type": "code",
      "source": [
        "def delta_hidden(z,d,w):\n",
        "  return dsigmoid(z)*np.dot(d,w)"
      ],
      "metadata": {
        "id": "HsUELA7Dolx3"
      },
      "execution_count": 277,
      "outputs": []
    },
    {
      "cell_type": "code",
      "source": [
        "def backward(y,z3,z2,z1):\n",
        "  d3=delta_output(z3,y)\n",
        "  d2=delta_hidden(z2,d3,w3)\n",
        "  d1=delta_hidden(z1,d2,w2)\n",
        "  return d1,d2,d3"
      ],
      "metadata": {
        "id": "J_gcyWcbo4CT"
      },
      "execution_count": 278,
      "outputs": []
    },
    {
      "cell_type": "code",
      "source": [
        "eta=0.001"
      ],
      "metadata": {
        "id": "lwAZTFacphk_"
      },
      "execution_count": 279,
      "outputs": []
    },
    {
      "cell_type": "code",
      "source": [
        "def dweight(d,a):\n",
        "  return eta*np.dot(d.T,a)"
      ],
      "metadata": {
        "id": "urHoSwGLplp6"
      },
      "execution_count": 280,
      "outputs": []
    },
    {
      "cell_type": "code",
      "source": [
        "def dbias(d):\n",
        "  return d.sum(axis=0)"
      ],
      "metadata": {
        "id": "6zwaZsSOp7Pu"
      },
      "execution_count": 281,
      "outputs": []
    },
    {
      "cell_type": "code",
      "source": [
        "def update_parameters(d3,x2,d2,x1,d1,x0):\n",
        "  global w1,w2,w3,b1,b2,b3\n",
        "  w3=w3-eta*dweight(d3,x2)\n",
        "  w2=w2-eta*dweight(d2,x1)\n",
        "  w1=w1-eta*dweight(d1,x0)\n",
        "  b3=b3-eta*dbias(d3)\n",
        "  b2=b2-eta*dbias(d2)\n",
        "  b1=b1-eta*dbias(d1)\n"
      ],
      "metadata": {
        "id": "MUzKdPbJqIVg"
      },
      "execution_count": 282,
      "outputs": []
    },
    {
      "cell_type": "code",
      "source": [
        "def train(x,y):\n",
        "  a1,a2,a3,z1,z2,z3=forward(x)\n",
        "  d1,d2,d3=backward(y,z3,z2,z1)\n",
        "  update_parameters(d3,a2,d2,a1,d1,x)"
      ],
      "metadata": {
        "id": "JjMbZbhmqr2u"
      },
      "execution_count": 283,
      "outputs": []
    },
    {
      "cell_type": "code",
      "source": [
        "EPOCH = 30000"
      ],
      "metadata": {
        "id": "6xtCfAEI--nn"
      },
      "execution_count": 284,
      "outputs": []
    },
    {
      "cell_type": "code",
      "source": [
        "def predict(X):\n",
        "    return forward(X)[-1]\n"
      ],
      "metadata": {
        "id": "XD9h1DaY_Nqg"
      },
      "execution_count": 285,
      "outputs": []
    },
    {
      "cell_type": "code",
      "source": [
        "def E(Y, X):\n",
        "    return 0.5 * ((Y - predict(X)) ** 2).sum()"
      ],
      "metadata": {
        "id": "iXw3_axN_YRc"
      },
      "execution_count": 286,
      "outputs": []
    },
    {
      "cell_type": "code",
      "source": [
        "import math"
      ],
      "metadata": {
        "id": "PY6_TrbU_pRg"
      },
      "execution_count": 287,
      "outputs": []
    },
    {
      "source": [
        "BATCH = 100\n",
        "\n",
        "for epoch in range(1, EPOCH + 1):\n",
        "    # ミニバッチ学習用にランダムなインデックスを取得\n",
        "    p = np.random.permutation(len(tx))\n",
        "\n",
        "    # ミニバッチの数分だけデータを取り出して学習\n",
        "    for i in range(math.ceil(len(tx) / BATCH)):\n",
        "        indice = p[i*BATCH:(i+1)*BATCH]\n",
        "        X0 = tx[indice]\n",
        "        # Convert indice to a list to use it as index for the list ty\n",
        "        Y  =  ty[indice]\n",
        "\n",
        "        train(X0, Y)\n",
        "\n",
        "      # ログを残す\n",
        "    if epoch % 100 == 0:\n",
        "      log = '誤差 = {:8.4f} ({:5d}エポック目)'\n",
        "      print(log.format(E(ty, tx), epoch))"
      ],
      "cell_type": "code",
      "metadata": {
        "colab": {
          "base_uri": "https://localhost:8080/",
          "height": 318
        },
        "id": "IO1smSujAIG4",
        "outputId": "1cfb7b76-a8d0-41fc-cfec-ccfd1f82ee64"
      },
      "execution_count": 288,
      "outputs": [
        {
          "output_type": "error",
          "ename": "ValueError",
          "evalue": "shapes (100,100) and (1,2) not aligned: 100 (dim 1) != 1 (dim 0)",
          "traceback": [
            "\u001b[0;31m---------------------------------------------------------------------------\u001b[0m",
            "\u001b[0;31mValueError\u001b[0m                                Traceback (most recent call last)",
            "\u001b[0;32m<ipython-input-288-fd78c72d855d>\u001b[0m in \u001b[0;36m<cell line: 0>\u001b[0;34m()\u001b[0m\n\u001b[1;32m     12\u001b[0m         \u001b[0mY\u001b[0m  \u001b[0;34m=\u001b[0m  \u001b[0mty\u001b[0m\u001b[0;34m[\u001b[0m\u001b[0mindice\u001b[0m\u001b[0;34m]\u001b[0m\u001b[0;34m\u001b[0m\u001b[0;34m\u001b[0m\u001b[0m\n\u001b[1;32m     13\u001b[0m \u001b[0;34m\u001b[0m\u001b[0m\n\u001b[0;32m---> 14\u001b[0;31m         \u001b[0mtrain\u001b[0m\u001b[0;34m(\u001b[0m\u001b[0mX0\u001b[0m\u001b[0;34m,\u001b[0m \u001b[0mY\u001b[0m\u001b[0;34m)\u001b[0m\u001b[0;34m\u001b[0m\u001b[0;34m\u001b[0m\u001b[0m\n\u001b[0m\u001b[1;32m     15\u001b[0m \u001b[0;34m\u001b[0m\u001b[0m\n\u001b[1;32m     16\u001b[0m       \u001b[0;31m# ログを残す\u001b[0m\u001b[0;34m\u001b[0m\u001b[0;34m\u001b[0m\u001b[0m\n",
            "\u001b[0;32m<ipython-input-283-ffaf57b81d4b>\u001b[0m in \u001b[0;36mtrain\u001b[0;34m(x, y)\u001b[0m\n\u001b[1;32m      1\u001b[0m \u001b[0;32mdef\u001b[0m \u001b[0mtrain\u001b[0m\u001b[0;34m(\u001b[0m\u001b[0mx\u001b[0m\u001b[0;34m,\u001b[0m\u001b[0my\u001b[0m\u001b[0;34m)\u001b[0m\u001b[0;34m:\u001b[0m\u001b[0;34m\u001b[0m\u001b[0;34m\u001b[0m\u001b[0m\n\u001b[1;32m      2\u001b[0m   \u001b[0ma1\u001b[0m\u001b[0;34m,\u001b[0m\u001b[0ma2\u001b[0m\u001b[0;34m,\u001b[0m\u001b[0ma3\u001b[0m\u001b[0;34m,\u001b[0m\u001b[0mz1\u001b[0m\u001b[0;34m,\u001b[0m\u001b[0mz2\u001b[0m\u001b[0;34m,\u001b[0m\u001b[0mz3\u001b[0m\u001b[0;34m=\u001b[0m\u001b[0mforward\u001b[0m\u001b[0;34m(\u001b[0m\u001b[0mx\u001b[0m\u001b[0;34m)\u001b[0m\u001b[0;34m\u001b[0m\u001b[0;34m\u001b[0m\u001b[0m\n\u001b[0;32m----> 3\u001b[0;31m   \u001b[0md1\u001b[0m\u001b[0;34m,\u001b[0m\u001b[0md2\u001b[0m\u001b[0;34m,\u001b[0m\u001b[0md3\u001b[0m\u001b[0;34m=\u001b[0m\u001b[0mbackward\u001b[0m\u001b[0;34m(\u001b[0m\u001b[0my\u001b[0m\u001b[0;34m,\u001b[0m\u001b[0mz3\u001b[0m\u001b[0;34m,\u001b[0m\u001b[0mz2\u001b[0m\u001b[0;34m,\u001b[0m\u001b[0mz1\u001b[0m\u001b[0;34m)\u001b[0m\u001b[0;34m\u001b[0m\u001b[0;34m\u001b[0m\u001b[0m\n\u001b[0m\u001b[1;32m      4\u001b[0m   \u001b[0mupdate_parameters\u001b[0m\u001b[0;34m(\u001b[0m\u001b[0md3\u001b[0m\u001b[0;34m,\u001b[0m\u001b[0ma2\u001b[0m\u001b[0;34m,\u001b[0m\u001b[0md2\u001b[0m\u001b[0;34m,\u001b[0m\u001b[0ma1\u001b[0m\u001b[0;34m,\u001b[0m\u001b[0md1\u001b[0m\u001b[0;34m,\u001b[0m\u001b[0mx\u001b[0m\u001b[0;34m)\u001b[0m\u001b[0;34m\u001b[0m\u001b[0;34m\u001b[0m\u001b[0m\n",
            "\u001b[0;32m<ipython-input-278-84459b7813b8>\u001b[0m in \u001b[0;36mbackward\u001b[0;34m(y, z3, z2, z1)\u001b[0m\n\u001b[1;32m      1\u001b[0m \u001b[0;32mdef\u001b[0m \u001b[0mbackward\u001b[0m\u001b[0;34m(\u001b[0m\u001b[0my\u001b[0m\u001b[0;34m,\u001b[0m\u001b[0mz3\u001b[0m\u001b[0;34m,\u001b[0m\u001b[0mz2\u001b[0m\u001b[0;34m,\u001b[0m\u001b[0mz1\u001b[0m\u001b[0;34m)\u001b[0m\u001b[0;34m:\u001b[0m\u001b[0;34m\u001b[0m\u001b[0;34m\u001b[0m\u001b[0m\n\u001b[1;32m      2\u001b[0m   \u001b[0md3\u001b[0m\u001b[0;34m=\u001b[0m\u001b[0mdelta_output\u001b[0m\u001b[0;34m(\u001b[0m\u001b[0mz3\u001b[0m\u001b[0;34m,\u001b[0m\u001b[0my\u001b[0m\u001b[0;34m)\u001b[0m\u001b[0;34m\u001b[0m\u001b[0;34m\u001b[0m\u001b[0m\n\u001b[0;32m----> 3\u001b[0;31m   \u001b[0md2\u001b[0m\u001b[0;34m=\u001b[0m\u001b[0mdelta_hidden\u001b[0m\u001b[0;34m(\u001b[0m\u001b[0mz2\u001b[0m\u001b[0;34m,\u001b[0m\u001b[0md3\u001b[0m\u001b[0;34m,\u001b[0m\u001b[0mw3\u001b[0m\u001b[0;34m)\u001b[0m\u001b[0;34m\u001b[0m\u001b[0;34m\u001b[0m\u001b[0m\n\u001b[0m\u001b[1;32m      4\u001b[0m   \u001b[0md1\u001b[0m\u001b[0;34m=\u001b[0m\u001b[0mdelta_hidden\u001b[0m\u001b[0;34m(\u001b[0m\u001b[0mz1\u001b[0m\u001b[0;34m,\u001b[0m\u001b[0md2\u001b[0m\u001b[0;34m,\u001b[0m\u001b[0mw2\u001b[0m\u001b[0;34m)\u001b[0m\u001b[0;34m\u001b[0m\u001b[0;34m\u001b[0m\u001b[0m\n\u001b[1;32m      5\u001b[0m   \u001b[0;32mreturn\u001b[0m \u001b[0md1\u001b[0m\u001b[0;34m,\u001b[0m\u001b[0md2\u001b[0m\u001b[0;34m,\u001b[0m\u001b[0md3\u001b[0m\u001b[0;34m\u001b[0m\u001b[0;34m\u001b[0m\u001b[0m\n",
            "\u001b[0;32m<ipython-input-277-f6823b591d02>\u001b[0m in \u001b[0;36mdelta_hidden\u001b[0;34m(z, d, w)\u001b[0m\n\u001b[1;32m      1\u001b[0m \u001b[0;32mdef\u001b[0m \u001b[0mdelta_hidden\u001b[0m\u001b[0;34m(\u001b[0m\u001b[0mz\u001b[0m\u001b[0;34m,\u001b[0m\u001b[0md\u001b[0m\u001b[0;34m,\u001b[0m\u001b[0mw\u001b[0m\u001b[0;34m)\u001b[0m\u001b[0;34m:\u001b[0m\u001b[0;34m\u001b[0m\u001b[0;34m\u001b[0m\u001b[0m\n\u001b[0;32m----> 2\u001b[0;31m   \u001b[0;32mreturn\u001b[0m \u001b[0mdsigmoid\u001b[0m\u001b[0;34m(\u001b[0m\u001b[0mz\u001b[0m\u001b[0;34m)\u001b[0m\u001b[0;34m*\u001b[0m\u001b[0mnp\u001b[0m\u001b[0;34m.\u001b[0m\u001b[0mdot\u001b[0m\u001b[0;34m(\u001b[0m\u001b[0md\u001b[0m\u001b[0;34m,\u001b[0m\u001b[0mw\u001b[0m\u001b[0;34m)\u001b[0m\u001b[0;34m\u001b[0m\u001b[0;34m\u001b[0m\u001b[0m\n\u001b[0m",
            "\u001b[0;31mValueError\u001b[0m: shapes (100,100) and (1,2) not aligned: 100 (dim 1) != 1 (dim 0)"
          ]
        }
      ]
    },
    {
      "cell_type": "code",
      "source": [
        " # ログを残す\n",
        "    if epoch % 100 == 0:\n",
        "      log = '誤差 = {:8.4f} ({:5d}エポック目)'\n",
        "      print(log.format(E(ty, tx), epoch))"
      ],
      "metadata": {
        "id": "nbrc7YFzCCsS"
      },
      "execution_count": null,
      "outputs": []
    }
  ]
}