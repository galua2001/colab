{
  "nbformat": 4,
  "nbformat_minor": 0,
  "metadata": {
    "colab": {
      "provenance": [],
      "authorship_tag": "ABX9TyPROSv5TfIC/ipGP9hSzSUw",
      "include_colab_link": true
    },
    "kernelspec": {
      "name": "python3",
      "display_name": "Python 3"
    },
    "language_info": {
      "name": "python"
    }
  },
  "cells": [
    {
      "cell_type": "markdown",
      "metadata": {
        "id": "view-in-github",
        "colab_type": "text"
      },
      "source": [
        "<a href=\"https://colab.research.google.com/github/galua2001/colab/blob/main/%EA%B2%BD%EC%82%AC%ED%95%98%EA%B0%95%EB%B2%954_ipynb%EC%9D%98_%EC%82%AC%EB%B3%B8.ipynb\" target=\"_parent\"><img src=\"https://colab.research.google.com/assets/colab-badge.svg\" alt=\"Open In Colab\"/></a>"
      ]
    },
    {
      "cell_type": "code",
      "execution_count": null,
      "metadata": {
        "id": "MJ-e1RW_w9GS"
      },
      "outputs": [],
      "source": [
        "import numpy as np\n",
        "perch_length = np.array([8.4, 13.7, 15.0, 16.2, 17.4, 18.0, 18.7, 19.0, 19.6, 20.0, 21.0,\n",
        "       21.0, 21.0, 21.3, 22.0, 22.0, 22.0, 22.0, 22.0, 22.5, 22.5, 22.7,\n",
        "       23.0, 23.5, 24.0, 24.0, 24.6, 25.0, 25.6, 26.5, 27.3, 27.5, 27.5,\n",
        "       27.5, 28.0, 28.7, 30.0, 32.8, 34.5, 35.0, 36.5, 36.0, 37.0, 37.0,\n",
        "       39.0, 39.0, 39.0, 40.0, 40.0, 40.0, 40.0, 42.0, 43.0, 43.0, 43.5,\n",
        "       44.0])\n",
        "yt = np.array([5.9, 32.0, 40.0, 51.5, 70.0, 100.0, 78.0, 80.0, 85.0, 85.0, 110.0,\n",
        "       115.0, 125.0, 130.0, 120.0, 120.0, 130.0, 135.0, 110.0, 130.0,\n",
        "       150.0, 145.0, 150.0, 170.0, 225.0, 145.0, 188.0, 180.0, 197.0,\n",
        "       218.0, 300.0, 260.0, 265.0, 250.0, 250.0, 300.0, 320.0, 514.0,\n",
        "       556.0, 840.0, 685.0, 700.0, 700.0, 690.0, 900.0, 650.0, 820.0,\n",
        "       850.0, 900.0, 1015.0, 820.0, 1100.0, 1000.0, 1100.0, 1000.0,\n",
        "       1000.0])"
      ]
    },
    {
      "cell_type": "code",
      "source": [
        "print(perch_length.shape)\n",
        "print(yt.shape)"
      ],
      "metadata": {
        "id": "A69Y0CUyQdY6",
        "outputId": "75623e0a-eca1-4061-ff93-c05a26eac7b5",
        "colab": {
          "base_uri": "https://localhost:8080/"
        }
      },
      "execution_count": null,
      "outputs": [
        {
          "output_type": "stream",
          "name": "stdout",
          "text": [
            "(56,)\n",
            "(56,)\n"
          ]
        }
      ]
    },
    {
      "cell_type": "code",
      "source": [
        "perch_length=perch_length.reshape(-1,1)\n",
        "\n",
        "\n",
        "print(perch_length)\n",
        "x=np.insert(perch_length, 0, 1.0, axis=1)\n",
        "print(x)"
      ],
      "metadata": {
        "id": "vHKDnR8exMwd",
        "outputId": "0f3092e2-b346-4f1e-9013-38eeb869e266",
        "colab": {
          "base_uri": "https://localhost:8080/"
        },
        "collapsed": true
      },
      "execution_count": null,
      "outputs": [
        {
          "output_type": "stream",
          "name": "stdout",
          "text": [
            "[[ 8.4]\n",
            " [13.7]\n",
            " [15. ]\n",
            " [16.2]\n",
            " [17.4]\n",
            " [18. ]\n",
            " [18.7]\n",
            " [19. ]\n",
            " [19.6]\n",
            " [20. ]\n",
            " [21. ]\n",
            " [21. ]\n",
            " [21. ]\n",
            " [21.3]\n",
            " [22. ]\n",
            " [22. ]\n",
            " [22. ]\n",
            " [22. ]\n",
            " [22. ]\n",
            " [22.5]\n",
            " [22.5]\n",
            " [22.7]\n",
            " [23. ]\n",
            " [23.5]\n",
            " [24. ]\n",
            " [24. ]\n",
            " [24.6]\n",
            " [25. ]\n",
            " [25.6]\n",
            " [26.5]\n",
            " [27.3]\n",
            " [27.5]\n",
            " [27.5]\n",
            " [27.5]\n",
            " [28. ]\n",
            " [28.7]\n",
            " [30. ]\n",
            " [32.8]\n",
            " [34.5]\n",
            " [35. ]\n",
            " [36.5]\n",
            " [36. ]\n",
            " [37. ]\n",
            " [37. ]\n",
            " [39. ]\n",
            " [39. ]\n",
            " [39. ]\n",
            " [40. ]\n",
            " [40. ]\n",
            " [40. ]\n",
            " [40. ]\n",
            " [42. ]\n",
            " [43. ]\n",
            " [43. ]\n",
            " [43.5]\n",
            " [44. ]]\n",
            "[[ 1.   8.4]\n",
            " [ 1.  13.7]\n",
            " [ 1.  15. ]\n",
            " [ 1.  16.2]\n",
            " [ 1.  17.4]\n",
            " [ 1.  18. ]\n",
            " [ 1.  18.7]\n",
            " [ 1.  19. ]\n",
            " [ 1.  19.6]\n",
            " [ 1.  20. ]\n",
            " [ 1.  21. ]\n",
            " [ 1.  21. ]\n",
            " [ 1.  21. ]\n",
            " [ 1.  21.3]\n",
            " [ 1.  22. ]\n",
            " [ 1.  22. ]\n",
            " [ 1.  22. ]\n",
            " [ 1.  22. ]\n",
            " [ 1.  22. ]\n",
            " [ 1.  22.5]\n",
            " [ 1.  22.5]\n",
            " [ 1.  22.7]\n",
            " [ 1.  23. ]\n",
            " [ 1.  23.5]\n",
            " [ 1.  24. ]\n",
            " [ 1.  24. ]\n",
            " [ 1.  24.6]\n",
            " [ 1.  25. ]\n",
            " [ 1.  25.6]\n",
            " [ 1.  26.5]\n",
            " [ 1.  27.3]\n",
            " [ 1.  27.5]\n",
            " [ 1.  27.5]\n",
            " [ 1.  27.5]\n",
            " [ 1.  28. ]\n",
            " [ 1.  28.7]\n",
            " [ 1.  30. ]\n",
            " [ 1.  32.8]\n",
            " [ 1.  34.5]\n",
            " [ 1.  35. ]\n",
            " [ 1.  36.5]\n",
            " [ 1.  36. ]\n",
            " [ 1.  37. ]\n",
            " [ 1.  37. ]\n",
            " [ 1.  39. ]\n",
            " [ 1.  39. ]\n",
            " [ 1.  39. ]\n",
            " [ 1.  40. ]\n",
            " [ 1.  40. ]\n",
            " [ 1.  40. ]\n",
            " [ 1.  40. ]\n",
            " [ 1.  42. ]\n",
            " [ 1.  43. ]\n",
            " [ 1.  43. ]\n",
            " [ 1.  43.5]\n",
            " [ 1.  44. ]]\n"
          ]
        }
      ]
    },
    {
      "cell_type": "code",
      "source": [
        "import matplotlib.pyplot as plt\n",
        "plt.scatter(x[:,1], yt)\n",
        "print(x.shape)\n",
        "plt.plot([15,50],[15*16.+1, 50*16.8+1])\n",
        "plt.plot([15,50],[15*36-648, 50*36-648])"
      ],
      "metadata": {
        "id": "67fXPI33zNFd",
        "outputId": "89a1852b-62fb-48b5-eaf2-3569e24af76a",
        "colab": {
          "base_uri": "https://localhost:8080/",
          "height": 468
        }
      },
      "execution_count": null,
      "outputs": [
        {
          "output_type": "stream",
          "name": "stdout",
          "text": [
            "(56, 2)\n"
          ]
        },
        {
          "output_type": "execute_result",
          "data": {
            "text/plain": [
              "[<matplotlib.lines.Line2D at 0x7b4ce3164490>]"
            ]
          },
          "metadata": {},
          "execution_count": 57
        },
        {
          "output_type": "display_data",
          "data": {
            "text/plain": [
              "<Figure size 640x480 with 1 Axes>"
            ],
            "image/png": "[encoded data removed]"
          },
          "metadata": {}
        }
      ]
    },
    {
      "cell_type": "code",
      "source": [
        "def pred(x, w):\n",
        "    return(x @ w)"
      ],
      "metadata": {
        "id": "hbcYmgb3zkGt"
      },
      "execution_count": null,
      "outputs": []
    },
    {
      "cell_type": "code",
      "source": [
        "print(x.shape)"
      ],
      "metadata": {
        "colab": {
          "base_uri": "https://localhost:8080/"
        },
        "id": "poZdAIwTjia9",
        "outputId": "9f62be8a-adca-4167-c21d-0c715fe0201e"
      },
      "execution_count": null,
      "outputs": [
        {
          "output_type": "stream",
          "name": "stdout",
          "text": [
            "(56, 2)\n"
          ]
        }
      ]
    },
    {
      "cell_type": "code",
      "source": [
        "# 초기화 처리\n",
        "\n",
        "# 데이터 전체 건수\n",
        "M = x.shape[0]\n",
        "\n",
        "# 입력 데이터의 차수 (더미 변수 포함)\n",
        "D = x.shape[1]\n",
        "\n",
        "# 반복 횟수\n",
        "iters = 100\n",
        "\n",
        "# 학습률\n",
        "alpha = 0.001\n",
        "\n",
        "# 가중치 벡터의 초깃값 (모든 값을 1로 한다)\n",
        "w = np.ones(D)\n",
        "\n",
        "# 평가 결과 기록 (손실함수의 값만 기록)\n",
        "history = np.zeros((0,2))"
      ],
      "metadata": {
        "id": "U1RZoH7pz_Wk"
      },
      "execution_count": null,
      "outputs": []
    },
    {
      "cell_type": "code",
      "source": [
        "# 반복 루프\n",
        "for k in range(iters):\n",
        "\n",
        "    # 예측값 계산 (7.8.1)\n",
        "    yp = pred(x, w)\n",
        "\n",
        "    # 오차 계산 (7.8.2)\n",
        "    yd = yp - yt\n",
        "\n",
        "    # 경사하강법 적용 (7.8.4)\n",
        "    w = w - alpha * (x.T.dot( yd)) / M\n",
        "\n",
        "    # 학습 곡선을 그리기 위한 데이터 계산 및 저장\n",
        "    if k % 10 == 0 :\n",
        "        # 손실함숫값의 계산 (7.6.1)\n",
        "        loss = np.mean(yd ** 2) / 2\n",
        "        # 계산 결과의 기록\n",
        "        history = np.vstack(( history, np.array([k, loss])))\n",
        "        # 화면 표시\n",
        "        print(\"iter=%d loss=%f\" %(k, loss))\n",
        "\n",
        "\n"
      ],
      "metadata": {
        "id": "oNKnC84U1Mes",
        "colab": {
          "base_uri": "https://localhost:8080/"
        },
        "collapsed": true,
        "outputId": "9630a813-0730-4a32-b270-44d19f0f835b"
      },
      "execution_count": null,
      "outputs": [
        {
          "output_type": "stream",
          "name": "stdout",
          "text": [
            "iter=0 loss=118854.198750\n",
            "iter=10 loss=24424.729288\n",
            "iter=20 loss=24388.240398\n",
            "iter=30 loss=24351.819371\n",
            "iter=40 loss=24315.466082\n",
            "iter=50 loss=24279.180403\n",
            "iter=60 loss=24242.962210\n",
            "iter=70 loss=24206.811376\n",
            "iter=80 loss=24170.727777\n",
            "iter=90 loss=24134.711288\n"
          ]
        }
      ]
    },
    {
      "cell_type": "code",
      "source": [
        "print(history.shape)"
      ],
      "metadata": {
        "colab": {
          "base_uri": "https://localhost:8080/"
        },
        "id": "0gNQ2RgDn-JX",
        "outputId": "710a0bc8-ca73-4adf-8265-3d806f3669b2"
      },
      "execution_count": null,
      "outputs": [
        {
          "output_type": "stream",
          "name": "stdout",
          "text": [
            "(10, 2)\n"
          ]
        }
      ]
    },
    {
      "cell_type": "code",
      "source": [
        "plt.plot(history[:,0], history[:,1])\n",
        "plt.show()"
      ],
      "metadata": {
        "colab": {
          "base_uri": "https://localhost:8080/",
          "height": 430
        },
        "id": "yroWMHw8l0uX",
        "outputId": "5edf68da-4aae-4689-b459-72edab894034"
      },
      "execution_count": null,
      "outputs": [
        {
          "output_type": "display_data",
          "data": {
            "text/plain": [
              "<Figure size 640x480 with 1 Axes>"
            ],
            "image/png": "[encoded data removed]"
          },
          "metadata": {}
        }
      ]
    },
    {
      "cell_type": "code",
      "source": [
        "print(yd, loss)\n"
      ],
      "metadata": {
        "colab": {
          "base_uri": "https://localhost:8080/"
        },
        "id": "F5j9i0Unru7x",
        "outputId": "5e60b678-1a58-468b-e9cd-278d5f57c632"
      },
      "execution_count": null,
      "outputs": [
        {
          "output_type": "stream",
          "name": "stdout",
          "text": [
            "[ 124.12385478  182.88700183  195.70249073  203.41678818  204.13108562\n",
            "  183.73823435  216.94657452  219.75014888  224.35729761  230.76206342\n",
            "  221.77397796  216.77397796  206.77397796  206.57755232  227.7858925\n",
            "  227.7858925   217.7858925   212.7858925   237.7858925   225.79184977\n",
            "  205.79184977  213.99423267  213.79780704  201.8037643   154.80972157\n",
            "  234.80972157  201.4168703   215.82163611  208.42878483  201.83950792\n",
            "  132.64903955  175.85142246  170.85142246  185.85142246  193.85737972\n",
            "  155.0657199   155.8812088     6.71456951   -8.06517578 -284.05921851\n",
            " -105.0413467  -128.04730397 -112.03538943 -102.03538943 -280.01156036\n",
            "  -30.01156036 -200.01156036 -213.99964582 -263.99964582 -378.99964582\n",
            " -183.99964582 -431.97581675 -315.96390221 -415.96390221 -307.95794494\n",
            " -299.95198767] 24134.71128763956\n"
          ]
        }
      ]
    },
    {
      "cell_type": "code",
      "source": [
        "print(yd.shape)"
      ],
      "metadata": {
        "colab": {
          "base_uri": "https://localhost:8080/"
        },
        "id": "T565OeeHr9cx",
        "outputId": "2f2462da-9c76-49a9-b264-fe53e37c5766"
      },
      "execution_count": null,
      "outputs": [
        {
          "output_type": "stream",
          "name": "stdout",
          "text": [
            "(56,)\n"
          ]
        }
      ]
    },
    {
      "cell_type": "code",
      "source": [
        "print(w)"
      ],
      "metadata": {
        "colab": {
          "base_uri": "https://localhost:8080/"
        },
        "id": "nNcs1toe8QT7",
        "outputId": "ab66972b-dd68-4a9f-a1b0-41e2a83b65cf"
      },
      "execution_count": null,
      "outputs": [
        {
          "output_type": "stream",
          "name": "stdout",
          "text": [
            "[-4.53612987 16.01386225]\n"
          ]
        }
      ]
    },
    {
      "cell_type": "code",
      "source": [
        "from sklearn.linear_model import LinearRegression\n",
        "lr=LinearRegression()\n",
        "lr.fit(perch_length, yt)\n",
        "print(lr.coef_, lr.intercept_)"
      ],
      "metadata": {
        "colab": {
          "base_uri": "https://localhost:8080/"
        },
        "id": "Fkl5rOGF7ia8",
        "outputId": "e12bf3d6-9e52-4931-bc02-43520f852fd5"
      },
      "execution_count": null,
      "outputs": [
        {
          "output_type": "stream",
          "name": "stdout",
          "text": [
            "[36.93837597] -648.0775582457385\n"
          ]
        }
      ]
    }
  ]
}