{
  "nbformat": 4,
  "nbformat_minor": 0,
  "metadata": {
    "colab": {
      "provenance": [],
      "authorship_tag": "ABX9TyM+H7Zt3UhfeuWDo8TiZFWv",
      "include_colab_link": true
    },
    "kernelspec": {
      "name": "python3",
      "display_name": "Python 3"
    },
    "language_info": {
      "name": "python"
    }
  },
  "cells": [
    {
      "cell_type": "markdown",
      "metadata": {
        "id": "view-in-github",
        "colab_type": "text"
      },
      "source": [
        "<a href=\"https://colab.research.google.com/github/galua2001/colab/blob/main/%ED%96%89%EB%A0%AC1.ipynb\" target=\"_parent\"><img src=\"https://colab.research.google.com/assets/colab-badge.svg\" alt=\"Open In Colab\"/></a>"
      ]
    },
    {
      "cell_type": "code",
      "execution_count": 101,
      "metadata": {
        "id": "9Hj1GueNpnmB"
      },
      "outputs": [],
      "source": [
        "import sympy as sp\n",
        "x,y,z,w,t=sp.symbols('x y z w t')"
      ]
    },
    {
      "cell_type": "code",
      "source": [
        "B = sp.Matrix([[1, 1, 1],\n",
        "               [2, 2, 2],\n",
        "               [1, 3, z]])\n",
        "\n",
        "# 행렬의 로우 에취 폼과 피벗 열 인덱스 구하기\n",
        "rref_matrix, pivot_columns = B.rref()\n",
        "\n",
        "print(\"Row Echelon Form (REF):\")\n",
        "print(rref_matrix)\n",
        "\n",
        "print(\"Pivot columns:\", pivot_columns)"
      ],
      "metadata": {
        "colab": {
          "base_uri": "https://localhost:8080/"
        },
        "id": "rS8Dwd5xtbhw",
        "outputId": "974e1f4d-7bf0-4429-9cb4-32a75d509748"
      },
      "execution_count": 102,
      "outputs": [
        {
          "output_type": "stream",
          "name": "stdout",
          "text": [
            "Row Echelon Form (REF):\n",
            "Matrix([[1, 0, 3/2 - z/2], [0, 1, z/2 - 1/2], [0, 0, 0]])\n",
            "Pivot columns: (0, 1)\n"
          ]
        }
      ]
    },
    {
      "cell_type": "code",
      "source": [
        "print(B.det())"
      ],
      "metadata": {
        "colab": {
          "base_uri": "https://localhost:8080/"
        },
        "id": "XiM3dOJ_3650",
        "outputId": "33d9466b-1d9d-4026-ec72-2bf6a086fbe9"
      },
      "execution_count": 103,
      "outputs": [
        {
          "output_type": "stream",
          "name": "stdout",
          "text": [
            "0\n"
          ]
        }
      ]
    },
    {
      "cell_type": "code",
      "source": [
        "D= sp.Matrix([[1, 0, 1,1],\n",
        "               [1, 1, 0,1],\n",
        "               [1, 1, 1,0],[0,1,1,1]])\n",
        "D_det=D.det()\n",
        "print(D_det)"
      ],
      "metadata": {
        "colab": {
          "base_uri": "https://localhost:8080/"
        },
        "id": "FHvEwJuX2dM2",
        "outputId": "2798562f-6a86-418a-db8d-d90f804d5aec"
      },
      "execution_count": 104,
      "outputs": [
        {
          "output_type": "stream",
          "name": "stdout",
          "text": [
            "3\n"
          ]
        }
      ]
    },
    {
      "cell_type": "code",
      "source": [
        "import sympy as sp\n",
        "\n",
        "# 기호 변수를 사용하여 행렬 정의\n",
        "A = sp.Matrix([[1, 0, 1,1],\n",
        "               [1, 1, 0,1],\n",
        "               [1, 1, 1,0],[0,1,1,1]])\n",
        "\n",
        "# 모듈러 연산 설정 (mod 5)\n",
        "p = 3\n",
        "\n",
        "# 행렬을 mod p로 변환\n",
        "A_mod = A.applyfunc(lambda x: x % p)\n",
        "\n",
        "# 행렬의 로우 에취 폼과 피벗 열 인덱스를 구하기\n",
        "rref_matrix, pivot_columns = A_mod.rref()\n",
        "\n",
        "# 결과 출력\n",
        "print(\"Row Echelon Form (mod p):\")\n",
        "print(rref_matrix)\n",
        "\n",
        "print(\"Pivot columns:\", pivot_columns)"
      ],
      "metadata": {
        "colab": {
          "base_uri": "https://localhost:8080/"
        },
        "id": "4e-bq5iTsOG-",
        "outputId": "4d2f0c3a-1d58-4e51-9886-618d8f9c0885"
      },
      "execution_count": 105,
      "outputs": [
        {
          "output_type": "stream",
          "name": "stdout",
          "text": [
            "Row Echelon Form (mod p):\n",
            "Matrix([[1, 0, 0, 0], [0, 1, 0, 0], [0, 0, 1, 0], [0, 0, 0, 1]])\n",
            "Pivot columns: (0, 1, 2, 3)\n"
          ]
        }
      ]
    },
    {
      "cell_type": "code",
      "source": [
        "import sympy as sp\n",
        "\n",
        "# 기호 변수를 사용하여 행렬 정의\n",
        "C = sp.Matrix([[t, 0, 1-t,-1],\n",
        "               [t, -1, 0,1-t],\n",
        "               [1-t, -1, t,0],[0,1-t,t,-1]])\n",
        "\n",
        "# 모듈러 연산 설정 (mod 5)\n",
        "p = 3\n",
        "\n",
        "# 행렬을 mod p로 변환\n",
        "C_mod = C.applyfunc(lambda x: x % p)\n",
        "\n",
        "# 행렬의 로우 에취 폼과 피벗 열 인덱스를 구하기\n",
        "rref_matrix, pivot_columns = C_mod.rref()\n",
        "\n",
        "# 결과 출력\n",
        "print(\"Row Echelon Form (mod p):\")\n",
        "print(rref_matrix)\n",
        "\n",
        "print(\"Pivot columns:\", pivot_columns)"
      ],
      "metadata": {
        "colab": {
          "base_uri": "https://localhost:8080/"
        },
        "id": "OTMZbPZBviAh",
        "outputId": "78d79e61-7e93-4bcc-aa48-b01d85df38cf"
      },
      "execution_count": 106,
      "outputs": [
        {
          "output_type": "stream",
          "name": "stdout",
          "text": [
            "Row Echelon Form (mod p):\n",
            "Matrix([[1, 0, 0, 0], [0, 1, 0, 0], [0, 0, 1, 0], [0, 0, 0, 1]])\n",
            "Pivot columns: (0, 1, 2, 3)\n"
          ]
        }
      ]
    },
    {
      "cell_type": "code",
      "source": [
        "det_C = C.det() % p\n",
        "\n",
        "# 결과 출력\n",
        "print(f\"행렬식 (mod {p}): {det_C}\")"
      ],
      "metadata": {
        "colab": {
          "base_uri": "https://localhost:8080/"
        },
        "id": "aJEm90yctKWy",
        "outputId": "36a4ae2c-8dfe-4eaf-f154-d7cc5026ef33"
      },
      "execution_count": 107,
      "outputs": [
        {
          "output_type": "stream",
          "name": "stdout",
          "text": [
            "행렬식 (mod 3): 0\n"
          ]
        }
      ]
    },
    {
      "cell_type": "code",
      "source": [
        "\n",
        "det_A = A.det()\n",
        "\n",
        "# 결과 출력\n",
        "print(f\"행렬식 (mod {p}): {det_A}\")"
      ],
      "metadata": {
        "colab": {
          "base_uri": "https://localhost:8080/"
        },
        "id": "TptjezBix6pL",
        "outputId": "b498938e-f8cf-4bfd-cf49-67e9cd5d7279"
      },
      "execution_count": 108,
      "outputs": [
        {
          "output_type": "stream",
          "name": "stdout",
          "text": [
            "행렬식 (mod 3): 3\n"
          ]
        }
      ]
    },
    {
      "cell_type": "code",
      "source": [
        "minor_all=C.minor(1,0)"
      ],
      "metadata": {
        "id": "u6mCwIvOvbLA"
      },
      "execution_count": 109,
      "outputs": []
    },
    {
      "source": [
        "minor_all=C.minor(0,0) # This line calculates the minor and assigns it to 'minor_all'\n",
        "print(f\"a_11에 대한 소행렬식: {minor_all}\") # Changed 'minor_a11' to 'minor_all' to use the calculated value"
      ],
      "cell_type": "code",
      "metadata": {
        "colab": {
          "base_uri": "https://localhost:8080/"
        },
        "id": "im6n_5MMxmnq",
        "outputId": "521f296e-e194-448b-9237-dae6d09b6147"
      },
      "execution_count": 110,
      "outputs": [
        {
          "output_type": "stream",
          "name": "stdout",
          "text": [
            "a_11에 대한 소행렬식: -t**3 + 3*t**2 - t\n"
          ]
        }
      ]
    }
  ]
}